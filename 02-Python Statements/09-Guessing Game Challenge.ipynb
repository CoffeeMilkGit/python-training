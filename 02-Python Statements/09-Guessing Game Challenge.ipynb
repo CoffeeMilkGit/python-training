{
 "cells": [
  {
   "cell_type": "markdown",
   "metadata": {},
   "source": [
    "# Guessing Game Challenge\n",
    "\n",
    "Let's use `while` loops to create a guessing game.\n",
    "\n",
    "The Challenge:\n",
    "\n",
    "Write a program that picks a random integer from 1 to 100, and has players guess the number. The rules are:\n",
    "\n",
    "1. If a player's guess is less than 1 or greater than 100, say \"OUT OF BOUNDS\"\n",
    "2. On a player's first turn, if their guess is\n",
    " * within 10 of the number, return \"WARM!\"\n",
    " * further than 10 away from the number, return \"COLD!\"\n",
    "3. On all subsequent turns, if a guess is \n",
    " * closer to the number than the previous guess return \"WARMER!\"\n",
    " * farther from the number than the previous guess, return \"COLDER!\"\n",
    "4. When the player's guess equals the number, tell them they've guessed correctly *and* how many guesses it took!\n",
    "\n",
    "You can try this from scratch, or follow the steps outlined below. A separate Solution notebook has been provided. Good luck!\n"
   ]
  },
  {
   "cell_type": "markdown",
   "metadata": {},
   "source": [
    "#### First, pick a random integer from 1 to 100 using the random module and assign it to a variable\n",
    "\n",
    "Note: `random.randint(a,b)` returns a random integer in range `[a, b]`, including both end points."
   ]
  },
  {
   "cell_type": "code",
   "execution_count": null,
   "metadata": {
    "collapsed": true
   },
   "outputs": [],
   "source": [
    "import random\n",
    "\n",
    "var_a =random.randint(0,101)\n"
   ]
  },
  {
   "cell_type": "markdown",
   "metadata": {},
   "source": [
    "#### Next, print an introduction to the game and explain the rules"
   ]
  },
  {
   "cell_type": "code",
   "execution_count": null,
   "metadata": {
    "collapsed": true
   },
   "outputs": [],
   "source": [
    "print(\"Intro the the guessing game\")\n",
    "print(f\"The random generate number is = {var_a}.\")"
   ]
  },
  {
   "cell_type": "markdown",
   "metadata": {},
   "source": [
    "#### Create a list to store guesses\n",
    "\n",
    "Hint: zero is a good placeholder value. It's useful because it evaluates to \"False\""
   ]
  },
  {
   "cell_type": "code",
   "execution_count": null,
   "metadata": {
    "collapsed": true
   },
   "outputs": [],
   "source": [
    "list_of_guess = []\n",
    "list_of_guess.insert(0,\"abc\")\n",
    "list_of_guess.insert(0,\"abcd\")\n",
    "var_guess = input('Enter Something into this box:')\n",
    "list_of_guess.insert(0,var_guess)\n",
    "\n",
    "list_of_guess"
   ]
  },
  {
   "cell_type": "markdown",
   "metadata": {},
   "source": [
    "#### Write a `while` loop that asks for a valid guess. Test it a few times to make sure it works."
   ]
  },
  {
   "cell_type": "code",
   "execution_count": null,
   "metadata": {
    "collapsed": true
   },
   "outputs": [],
   "source": [
    "var_guess = 0\n",
    "while var_guess != var_a:\n",
    "    var_guess = int(input('Enter your guess into this box:'))\n",
    "    if var_guess != var_a:\n",
    "        print(f\"Wrong, guess again! The difference between the your guess to the actual number is :{abs(var_a - var_guess)}\")   \n",
    "    else:\n",
    "        print(f\"You got it correct! The random number is {var_a} and your guess is {var_guess}\")\n",
    "    pass"
   ]
  },
  {
   "cell_type": "markdown",
   "metadata": {},
   "source": [
    "#### Write a `while` loop that compares the player's guess to our number. If the player guesses correctly, break from the loop. Otherwise, tell the player if they're warmer or colder, and continue asking for guesses.\n",
    "\n",
    "Some hints:\n",
    "* it may help to sketch out all possible combinations on paper first!\n",
    "* you can use the `abs()` function to find the positive difference between two numbers\n",
    "* if you append all new guesses to the list, then the previous guess is given as `guesses[-2]`"
   ]
  },
  {
   "cell_type": "code",
   "execution_count": 29,
   "metadata": {
    "collapsed": true
   },
   "outputs": [
    {
     "name": "stdout",
     "output_type": "stream",
     "text": [
      "Wrong, guess again! The difference between the your guess to the actual number is :44\n",
      "The number of guess you make 1, and here are the list of guesses you have made so far! [12]\n",
      "Wrong, guess again! The difference between the your guess to the actual number is :10\n",
      "The number of guess you make 2, and here are the list of guesses you have made so far! [46, 12]\n",
      "You got it correct! The random number is 56 and your guess is 56\n"
     ]
    }
   ],
   "source": [
    "import random\n",
    "var_a =random.randint(0,101)\n",
    "var_guess = 0\n",
    "list_of_guess = []\n",
    "while var_guess != var_a:\n",
    "    var_guess = int(input('Enter your guess into this box:'))\n",
    "    list_of_guess.insert(0,var_guess)\n",
    "\n",
    "    if var_guess < 1 or var_guess > 100:\n",
    "        print('OUT OF BOUNDS! Please try again: ')\n",
    "        continue\n",
    "\n",
    "    if var_guess != var_a:\n",
    "        print(f\"Wrong, guess again! The difference between the your guess to the actual number is :{abs(var_a - var_guess)}\")   \n",
    "        print(f\"The number of guess you make {len(list_of_guess)}, and here are the list of guesses you have made so far! {list_of_guess}\")\n",
    "    else:\n",
    "        print(f\"You got it correct! The random number is {var_a} and your guess is {var_guess}\")\n",
    "        break"
   ]
  }
 ],
 "metadata": {
  "kernelspec": {
   "display_name": "Python 3",
   "language": "python",
   "name": "python3"
  },
  "language_info": {
   "codemirror_mode": {
    "name": "ipython",
    "version": 3
   },
   "file_extension": ".py",
   "mimetype": "text/x-python",
   "name": "python",
   "nbconvert_exporter": "python",
   "pygments_lexer": "ipython3",
   "version": "3.11.5"
  }
 },
 "nbformat": 4,
 "nbformat_minor": 2
}
